{
 "cells": [
  {
   "cell_type": "code",
   "execution_count": 18,
   "id": "aad2891e-31ab-4bc6-875c-8ad2ed604335",
   "metadata": {},
   "outputs": [
    {
     "name": "stdout",
     "output_type": "stream",
     "text": [
      "50.03133798202143 49.96866201797857\n"
     ]
    }
   ],
   "source": [
    "'''Q1. Calculate the 95% confidence interval for a sample of data with a mean of 50 and a standard deviation\n",
    "of 5 using Python. Interpret the results.'''\n",
    "\n",
    "#importing scipy module\n",
    "import scipy.stats as stat\n",
    "\n",
    "#given data\n",
    "sample_mean = 50\n",
    "sample_std = 5\n",
    "confidence_level = 0.95\n",
    "\n",
    "sample_size = 100 #let say\n",
    "\n",
    "#calculating margin of error\n",
    "margin_of_error = stat.norm.ppf((1+confidence_level)/2*(sample_std/sample_size**0.5))\n",
    "lower = sample_mean - margin_of_error\n",
    "higher = sample_mean + margin_of_error\n",
    "\n",
    "print(lower,higher)"
   ]
  },
  {
   "cell_type": "code",
   "execution_count": 6,
   "id": "cfa2199e-046e-4b2a-83a7-349b6acfdc92",
   "metadata": {},
   "outputs": [],
   "source": [
    "'''Q2. Conduct a chi-square goodness of fit test to determine if the distribution of colors of M&Ms in a bag\n",
    "matches the expected distribution of 20% blue, 20% orange, 20% green, 10% yellow, 10% red, and 20%\n",
    "brown. Use Python to perform the test with a significance level of 0.05.'''\n",
    "\n",
    "import scipy.stats as stat\n",
    "#blue,orange,green,yellow,red,brown\n",
    "observed_data = [20,20,20,10,10,20]\n",
    "expected_data = [20,20,20,10,10,20]\n"
   ]
  },
  {
   "cell_type": "code",
   "execution_count": 8,
   "id": "0011f2b9-8035-4cf4-8ae6-99015fe8c2b4",
   "metadata": {},
   "outputs": [
    {
     "data": {
      "text/plain": [
       "(100, 100)"
      ]
     },
     "execution_count": 8,
     "metadata": {},
     "output_type": "execute_result"
    }
   ],
   "source": [
    "sum(expected_data),sum(observed_data)"
   ]
  },
  {
   "cell_type": "code",
   "execution_count": 9,
   "id": "37588cd8-56d7-4a41-88c5-4edca8421d12",
   "metadata": {},
   "outputs": [],
   "source": [
    "##chi square goodness of fit\n",
    "chi_square_test_statistics , p_value = stat.chisquare(observed_data,expected_data)"
   ]
  },
  {
   "cell_type": "code",
   "execution_count": 11,
   "id": "773d4ff4-aabc-4508-aec0-dd5307da72de",
   "metadata": {},
   "outputs": [
    {
     "name": "stdout",
     "output_type": "stream",
     "text": [
      "0.0\n",
      "1.0\n"
     ]
    },
    {
     "data": {
      "text/plain": [
       "(None, None)"
      ]
     },
     "execution_count": 11,
     "metadata": {},
     "output_type": "execute_result"
    }
   ],
   "source": [
    "print(chi_square_test_statistics),print(p_value)"
   ]
  },
  {
   "cell_type": "code",
   "execution_count": 12,
   "id": "d473ce49-a0e4-4740-806f-256c39ae5a52",
   "metadata": {},
   "outputs": [],
   "source": [
    "##find critical value\n",
    "significance_value = 0.05\n",
    "dof = len(observed_data)-1\n",
    "critical_value = stat.chi2.ppf(1-significance_value,dof) #used to find critical value"
   ]
  },
  {
   "cell_type": "code",
   "execution_count": 13,
   "id": "c7af129f-7397-4326-8d68-9392142ee632",
   "metadata": {},
   "outputs": [
    {
     "data": {
      "text/plain": [
       "11.070497693516351"
      ]
     },
     "execution_count": 13,
     "metadata": {},
     "output_type": "execute_result"
    }
   ],
   "source": [
    "critical_value"
   ]
  },
  {
   "cell_type": "code",
   "execution_count": 14,
   "id": "d5e1f37a-c5d0-4ca2-b866-b61670125f1e",
   "metadata": {},
   "outputs": [
    {
     "name": "stdout",
     "output_type": "stream",
     "text": [
      "Accept the NullHypothesis\n"
     ]
    }
   ],
   "source": [
    "if chi_square_test_statistics > critical_value:\n",
    "    print(\"Reject the NullHypothesis\")\n",
    "else:\n",
    "    print(\"Accept the NullHypothesis\")"
   ]
  },
  {
   "cell_type": "code",
   "execution_count": 21,
   "id": "a4ffa98c-beb9-41a3-8c54-29e27a0508ee",
   "metadata": {},
   "outputs": [
    {
     "name": "stdout",
     "output_type": "stream",
     "text": [
      "[[20 10 15]\n",
      " [15 25 20]]\n",
      "chi-square statistic 5.833333333333334\n",
      "p_value 0.05411376622282158\n"
     ]
    }
   ],
   "source": [
    "'''Q3. Use Python to calculate the chi-square statistic and p-value for a contingency table with the following\n",
    "data:\n",
    "\n",
    "Interpret the results of the test.'''\n",
    "\n",
    "#importing contingency from scipy module\n",
    "from scipy.stats import chi2_contingency\n",
    "#importing numpy module for creating table\n",
    "import numpy as np\n",
    "\n",
    "#creating contingency table\n",
    "contingency_table = np.array([[20,10,15],[15,25,20]])\n",
    "print(contingency_table)\n",
    "\n",
    "#performing chi square test\n",
    "chi2,p_value,dof,expected = chi2_contingency(contingency_table)\n",
    "\n",
    "print(\"chi-square statistic\", chi2)\n",
    "print(\"p_value\", p_value)"
   ]
  },
  {
   "cell_type": "code",
   "execution_count": 24,
   "id": "0a792596-75ab-4076-8555-86e604ee1f49",
   "metadata": {},
   "outputs": [
    {
     "name": "stdout",
     "output_type": "stream",
     "text": [
      "confidence interval is : (0.09151638887130706, 0.14848361112869293)\n"
     ]
    }
   ],
   "source": [
    "'''Q4. A study of the prevalence of smoking in a population of 500 individuals found that 60 individuals\n",
    "smoked. Use Python to calculate the 95% confidence interval for the true proportion of individuals in the\n",
    "population who smoke.'''\n",
    "\n",
    "#importing scipy module\n",
    "import statsmodels.api as stat\n",
    "\n",
    "#given data\n",
    "sample_size = 500\n",
    "num_smokers = 60\n",
    "\n",
    "#calculating proportions of smokers\n",
    "proportion_smokers = num_smokers / sample_size\n",
    "\n",
    "#calculating confidence interval\n",
    "confidence_interval = stat.stats.proportion_confint(num_smokers,sample_size,alpha = 0.05)\n",
    "\n",
    "print(f\"confidence interval is : {confidence_interval}\")"
   ]
  },
  {
   "cell_type": "code",
   "execution_count": 28,
   "id": "d267ba30-3dcf-42f4-8763-bb0d8cc7e924",
   "metadata": {},
   "outputs": [
    {
     "name": "stdout",
     "output_type": "stream",
     "text": [
      "nan nan\n"
     ]
    }
   ],
   "source": [
    "'''Q5. Calculate the 90% confidence interval for a sample of data with a mean of 75 and a standard deviation\n",
    "of 12 using Python. Interpret the results.'''\n",
    "\n",
    "#importing scipy module\n",
    "import scipy.stats as stat\n",
    "\n",
    "#given data\n",
    "sample_mean = 75\n",
    "sample_std = 12\n",
    "confidence_level = 0.9\n",
    "\n",
    "sample_size = 100 #let say\n",
    "\n",
    "#calculating margin of erroe\n",
    "margin_of_error = stat.norm.ppf((1+confidence_level)/2*(sample_std/sample_size**0.5))\n",
    "lower = sample_mean - margin_of_error\n",
    "higher = sample_mean + margin_of_error\n",
    "\n",
    "print(lower,higher)"
   ]
  },
  {
   "cell_type": "code",
   "execution_count": 29,
   "id": "2eba2f8f-96f2-4033-8426-5e5764a35e59",
   "metadata": {},
   "outputs": [
    {
     "data": {
      "text/plain": [
       "[<matplotlib.lines.Line2D at 0x7f0733b5c310>]"
      ]
     },
     "execution_count": 29,
     "metadata": {},
     "output_type": "execute_result"
    },
    {
     "data": {
      "image/png": "[encoded data removed]",
      "text/plain": [
       "<Figure size 640x480 with 1 Axes>"
      ]
     },
     "metadata": {},
     "output_type": "display_data"
    }
   ],
   "source": [
    "'''Q6. Use Python to plot the chi-square distribution with 10 degrees of freedom. Label the axes and shade the\n",
    "area corresponding to a chi-square statistic of 15.'''\n",
    "\n",
    "#importing modules\n",
    "import numpy as np\n",
    "import matplotlib.pyplot as plt\n",
    "from scipy.stats import chi2\n",
    "\n",
    "#x-axis ranges from 0 to 20 with .001 steps\n",
    "x = np.arange(0, 20, 0.001)\n",
    "\n",
    "#plot Chi-square distribution with 10 degrees of freedom\n",
    "plt.plot(x, chi2.pdf(x, df=10))"
   ]
  }
 ],
 "metadata": {
  "kernelspec": {
   "display_name": "Python 3 (ipykernel)",
   "language": "python",
   "name": "python3"
  },
  "language_info": {
   "codemirror_mode": {
    "name": "ipython",
    "version": 3
   },
   "file_extension": ".py",
   "mimetype": "text/x-python",
   "name": "python",
   "nbconvert_exporter": "python",
   "pygments_lexer": "ipython3",
   "version": "3.10.8"
  }
 },
 "nbformat": 4,
 "nbformat_minor": 5
}
